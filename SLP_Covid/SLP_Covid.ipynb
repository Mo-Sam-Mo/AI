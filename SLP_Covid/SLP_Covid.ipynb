{
  "nbformat": 4,
  "nbformat_minor": 0,
  "metadata": {
    "colab": {
      "provenance": []
    },
    "kernelspec": {
      "name": "python3",
      "display_name": "Python 3"
    },
    "language_info": {
      "name": "python"
    },
    "accelerator": "GPU",
    "gpuClass": "standard"
  },
  "cells": [
    {
      "cell_type": "code",
      "execution_count": null,
      "metadata": {
        "id": "8FnB0KLPvcId"
      },
      "outputs": [],
      "source": [
        "#download from kaggle directly\n",
        "! pip install kaggle\n",
        "! mkdir ~/.kaggle\n",
        "! cp kaggle.json ~/.kaggle/\n",
        "! chmod 600 ~/.kaggle/kaggle.json\n",
        "! kaggle datasets download tawsifurrahman/covid19-radiography-database\n",
        "! unzip covid19-radiography-database"
      ]
    },
    {
      "cell_type": "code",
      "source": [
        "import cv2\n",
        "import glob\n",
        "import keras\n",
        "import random\n",
        "from sklearn.metrics import accuracy_score, confusion_matrix\n",
        "import pandas as pd\n",
        "from keras.models import Sequential\n",
        "from keras.layers import Dense\n",
        "from sklearn.model_selection import train_test_split\n",
        "import os\n",
        "import numpy as np\n",
        "from google.colab.patches import cv2_imshow\n",
        "import matplotlib.pyplot as plt\n",
        "from skimage import color\n",
        "from keras.callbacks import EarlyStopping\n",
        "from seaborn import heatmap"
      ],
      "metadata": {
        "id": "wOvZfQSlkprp"
      },
      "execution_count": 32,
      "outputs": []
    },
    {
      "cell_type": "code",
      "source": [
        "scale_percent = 70 # percent of original size\n",
        "width = int(290 * scale_percent / 100)\n",
        "height = int(290 * scale_percent / 100)\n",
        "dim = (width, height)"
      ],
      "metadata": {
        "id": "495VBVUH4twv"
      },
      "execution_count": 2,
      "outputs": []
    },
    {
      "cell_type": "code",
      "source": [
        "img = cv2.imread(os.path.join('/content/COVID-19_Radiography_Dataset/Normal/images', 'Normal-1.png'),0)\n",
        "# resize image\n",
        "resized = cv2.resize(img, dim, interpolation = cv2.INTER_AREA)\n",
        "cv2_imshow(resized)\n",
        "resized.shape"
      ],
      "metadata": {
        "colab": {
          "base_uri": "https://localhost:8080/",
          "height": 237
        },
        "id": "lyNoTw9c4toQ",
        "outputId": "30612a70-76d8-4d71-b598-7f9f2f098ba9"
      },
      "execution_count": 3,
      "outputs": [
        {
          "output_type": "display_data",
          "data": {
            "text/plain": [
              "<PIL.Image.Image image mode=L size=203x203 at 0x7FC2D330A8D0>"
            ],
            "image/png": "[encoded data removed]"
          },
          "metadata": {}
        },
        {
          "output_type": "execute_result",
          "data": {
            "text/plain": [
              "(203, 203)"
            ]
          },
          "metadata": {},
          "execution_count": 3
        }
      ]
    },
    {
      "cell_type": "code",
      "source": [
        "images = []\n",
        "Labels = []\n",
        "for filename in os.listdir('/content/COVID-19_Radiography_Dataset/Normal/images'):\n",
        "    img = cv2.imread(os.path.join('/content/COVID-19_Radiography_Dataset/Normal/images', filename),0)\n",
        "    if img is not None:\n",
        "        Labels.append(0)\n",
        "        images.append(cv2.resize(img, dim, interpolation = cv2.INTER_AREA))"
      ],
      "metadata": {
        "id": "1w1SWCd08VYL"
      },
      "execution_count": 4,
      "outputs": []
    },
    {
      "cell_type": "code",
      "source": [
        "for filename in os.listdir('/content/COVID-19_Radiography_Dataset/COVID/images'):\n",
        "    img = cv2.imread(os.path.join('/content/COVID-19_Radiography_Dataset/COVID/images', filename),0)\n",
        "    if img is not None:\n",
        "        Labels.append(1)\n",
        "        images.append(cv2.resize(img, dim, interpolation = cv2.INTER_AREA))"
      ],
      "metadata": {
        "id": "gbzg3I_7_-C-"
      },
      "execution_count": 5,
      "outputs": []
    },
    {
      "cell_type": "code",
      "source": [
        "len(images)"
      ],
      "metadata": {
        "colab": {
          "base_uri": "https://localhost:8080/"
        },
        "id": "tEOGjgdpM2xY",
        "outputId": "d309dff8-d90d-465c-a8f2-19caeb3b7dd9"
      },
      "execution_count": 6,
      "outputs": [
        {
          "output_type": "execute_result",
          "data": {
            "text/plain": [
              "13808"
            ]
          },
          "metadata": {},
          "execution_count": 6
        }
      ]
    },
    {
      "cell_type": "code",
      "source": [
        "temp = list(zip(images, Labels))\n",
        "random.shuffle(temp)\n",
        "arimages, arLabels = zip(*temp)\n",
        "# res1 and res2 come out as tuples, and so must be converted to lists.\n",
        "arimages = np.array(arimages[:10000])\n",
        "arLabels = np.array(arLabels[:10000])"
      ],
      "metadata": {
        "id": "Z7bsC6cVNHlw"
      },
      "execution_count": 6,
      "outputs": []
    },
    {
      "cell_type": "code",
      "source": [
        "arimages = arimages.reshape( (-1,41209) )\n",
        "arimages = arimages/255\n"
      ],
      "metadata": {
        "id": "JcMeKcm9Qk1Q"
      },
      "execution_count": 7,
      "outputs": []
    },
    {
      "cell_type": "code",
      "source": [
        "x_train, x_test,y_train, y_test  = train_test_split(arimages,arLabels, test_size= 0.05)"
      ],
      "metadata": {
        "id": "FmdqHtmFA3rY"
      },
      "execution_count": 8,
      "outputs": []
    },
    {
      "cell_type": "code",
      "source": [
        "e = EarlyStopping(\n",
        "    monitor=\"val_recall\",\n",
        "    min_delta=0.1,\n",
        "    patience=5,\n",
        "    verbose=1,\n",
        "    mode=\"auto\",\n",
        "    baseline=None,\n",
        "    restore_best_weights=True,\n",
        ")"
      ],
      "metadata": {
        "id": "ATupMH5c4_Uw"
      },
      "execution_count": 9,
      "outputs": []
    },
    {
      "cell_type": "code",
      "source": [
        "model = Sequential()\n",
        "model.add( Dense(1,input_shape=(41209,),activation='sigmoid') )\n",
        "model.compile(optimizer='sgd',loss= 'binary_crossentropy',metrics=['accuracy',keras.metrics.Recall()])"
      ],
      "metadata": {
        "id": "-I_rM0Mb8Vd6"
      },
      "execution_count": 10,
      "outputs": []
    },
    {
      "cell_type": "code",
      "source": [
        "results=model.fit(\n",
        "  x=arimages,\n",
        "  y=arLabels,\n",
        "  epochs=50,\n",
        "  shuffle='true',\n",
        "  validation_data=(x_test,y_test),\n",
        "  callbacks=[e]\n",
        "    )"
      ],
      "metadata": {
        "colab": {
          "base_uri": "https://localhost:8080/"
        },
        "id": "AbzjDhnQ8VjS",
        "outputId": "0aba189d-60ec-451c-db9a-7efa7cd3674d"
      },
      "execution_count": 11,
      "outputs": [
        {
          "output_type": "stream",
          "name": "stdout",
          "text": [
            "Epoch 1/50\n",
            "309/313 [============================>.] - ETA: 0s - loss: 6.3994 - accuracy: 0.6817 - recall: 0.3868"
          ]
        },
        {
          "output_type": "stream",
          "name": "stderr",
          "text": [
            "WARNING:tensorflow:Early stopping conditioned on metric `val_recall_5` which is not available. Available metrics are: loss,accuracy,recall,val_loss,val_accuracy,val_recall\n"
          ]
        },
        {
          "output_type": "stream",
          "name": "stdout",
          "text": [
            "\b\b\b\b\b\b\b\b\b\b\b\b\b\b\b\b\b\b\b\b\b\b\b\b\b\b\b\b\b\b\b\b\b\b\b\b\b\b\b\b\b\b\b\b\b\b\b\b\b\b\b\b\b\b\b\b\b\b\b\b\b\b\b\b\b\b\b\b\b\b\b\b\b\b\b\b\b\b\b\b\b\b\b\b\b\b\b\b\b\b\b\b\b\b\b\b\b\b\b\b\b\r313/313 [==============================] - 7s 11ms/step - loss: 6.3870 - accuracy: 0.6825 - recall: 0.3861 - val_loss: 2.9868 - val_accuracy: 0.6580 - val_recall: 0.8889\n",
            "Epoch 2/50\n",
            "311/313 [============================>.] - ETA: 0s - loss: 4.8490 - accuracy: 0.7164 - recall: 0.4527"
          ]
        },
        {
          "output_type": "stream",
          "name": "stderr",
          "text": [
            "WARNING:tensorflow:Early stopping conditioned on metric `val_recall_5` which is not available. Available metrics are: loss,accuracy,recall,val_loss,val_accuracy,val_recall\n"
          ]
        },
        {
          "output_type": "stream",
          "name": "stdout",
          "text": [
            "\b\b\b\b\b\b\b\b\b\b\b\b\b\b\b\b\b\b\b\b\b\b\b\b\b\b\b\b\b\b\b\b\b\b\b\b\b\b\b\b\b\b\b\b\b\b\b\b\b\b\b\b\b\b\b\b\b\b\b\b\b\b\b\b\b\b\b\b\b\b\b\b\b\b\b\b\b\b\b\b\b\b\b\b\b\b\b\b\b\b\b\b\b\b\b\b\b\b\b\b\b\r313/313 [==============================] - 2s 6ms/step - loss: 4.8393 - accuracy: 0.7169 - recall: 0.4526 - val_loss: 7.7582 - val_accuracy: 0.7480 - val_recall: 0.0000e+00\n",
            "Epoch 3/50\n",
            "312/313 [============================>.] - ETA: 0s - loss: 4.7180 - accuracy: 0.7189 - recall: 0.4548"
          ]
        },
        {
          "output_type": "stream",
          "name": "stderr",
          "text": [
            "WARNING:tensorflow:Early stopping conditioned on metric `val_recall_5` which is not available. Available metrics are: loss,accuracy,recall,val_loss,val_accuracy,val_recall\n"
          ]
        },
        {
          "output_type": "stream",
          "name": "stdout",
          "text": [
            "\b\b\b\b\b\b\b\b\b\b\b\b\b\b\b\b\b\b\b\b\b\b\b\b\b\b\b\b\b\b\b\b\b\b\b\b\b\b\b\b\b\b\b\b\b\b\b\b\b\b\b\b\b\b\b\b\b\b\b\b\b\b\b\b\b\b\b\b\b\b\b\b\b\b\b\b\b\b\b\b\b\b\b\b\b\b\b\b\b\b\b\b\b\b\b\b\b\b\b\b\b\r313/313 [==============================] - 2s 5ms/step - loss: 4.7170 - accuracy: 0.7190 - recall: 0.4549 - val_loss: 1.2646 - val_accuracy: 0.7800 - val_recall: 0.7540\n",
            "Epoch 4/50\n",
            "311/313 [============================>.] - ETA: 0s - loss: 4.4332 - accuracy: 0.7297 - recall: 0.4747"
          ]
        },
        {
          "output_type": "stream",
          "name": "stderr",
          "text": [
            "WARNING:tensorflow:Early stopping conditioned on metric `val_recall_5` which is not available. Available metrics are: loss,accuracy,recall,val_loss,val_accuracy,val_recall\n"
          ]
        },
        {
          "output_type": "stream",
          "name": "stdout",
          "text": [
            "\b\b\b\b\b\b\b\b\b\b\b\b\b\b\b\b\b\b\b\b\b\b\b\b\b\b\b\b\b\b\b\b\b\b\b\b\b\b\b\b\b\b\b\b\b\b\b\b\b\b\b\b\b\b\b\b\b\b\b\b\b\b\b\b\b\b\b\b\b\b\b\b\b\b\b\b\b\b\b\b\b\b\b\b\b\b\b\b\b\b\b\b\b\b\b\b\b\b\b\b\b\r313/313 [==============================] - 2s 6ms/step - loss: 4.4259 - accuracy: 0.7293 - recall: 0.4743 - val_loss: 6.4219 - val_accuracy: 0.7520 - val_recall: 0.0159\n",
            "Epoch 5/50\n",
            "311/313 [============================>.] - ETA: 0s - loss: 4.0745 - accuracy: 0.7361 - recall: 0.4893"
          ]
        },
        {
          "output_type": "stream",
          "name": "stderr",
          "text": [
            "WARNING:tensorflow:Early stopping conditioned on metric `val_recall_5` which is not available. Available metrics are: loss,accuracy,recall,val_loss,val_accuracy,val_recall\n"
          ]
        },
        {
          "output_type": "stream",
          "name": "stdout",
          "text": [
            "\b\b\b\b\b\b\b\b\b\b\b\b\b\b\b\b\b\b\b\b\b\b\b\b\b\b\b\b\b\b\b\b\b\b\b\b\b\b\b\b\b\b\b\b\b\b\b\b\b\b\b\b\b\b\b\b\b\b\b\b\b\b\b\b\b\b\b\b\b\b\b\b\b\b\b\b\b\b\b\b\b\b\b\b\b\b\b\b\b\b\b\b\b\b\b\b\b\b\b\b\b\r313/313 [==============================] - 2s 6ms/step - loss: 4.1078 - accuracy: 0.7349 - recall: 0.4878 - val_loss: 16.6387 - val_accuracy: 0.7480 - val_recall: 0.0000e+00\n",
            "Epoch 6/50\n",
            "310/313 [============================>.] - ETA: 0s - loss: 4.1517 - accuracy: 0.7347 - recall: 0.4828"
          ]
        },
        {
          "output_type": "stream",
          "name": "stderr",
          "text": [
            "WARNING:tensorflow:Early stopping conditioned on metric `val_recall_5` which is not available. Available metrics are: loss,accuracy,recall,val_loss,val_accuracy,val_recall\n"
          ]
        },
        {
          "output_type": "stream",
          "name": "stdout",
          "text": [
            "\b\b\b\b\b\b\b\b\b\b\b\b\b\b\b\b\b\b\b\b\b\b\b\b\b\b\b\b\b\b\b\b\b\b\b\b\b\b\b\b\b\b\b\b\b\b\b\b\b\b\b\b\b\b\b\b\b\b\b\b\b\b\b\b\b\b\b\b\b\b\b\b\b\b\b\b\b\b\b\b\b\b\b\b\b\b\b\b\b\b\b\b\b\b\b\b\b\b\b\b\b\r313/313 [==============================] - 2s 6ms/step - loss: 4.1807 - accuracy: 0.7338 - recall: 0.4824 - val_loss: 1.1699 - val_accuracy: 0.7960 - val_recall: 0.7540\n",
            "Epoch 7/50\n",
            "312/313 [============================>.] - ETA: 0s - loss: 3.9185 - accuracy: 0.7432 - recall: 0.5035"
          ]
        },
        {
          "output_type": "stream",
          "name": "stderr",
          "text": [
            "WARNING:tensorflow:Early stopping conditioned on metric `val_recall_5` which is not available. Available metrics are: loss,accuracy,recall,val_loss,val_accuracy,val_recall\n"
          ]
        },
        {
          "output_type": "stream",
          "name": "stdout",
          "text": [
            "\b\b\b\b\b\b\b\b\b\b\b\b\b\b\b\b\b\b\b\b\b\b\b\b\b\b\b\b\b\b\b\b\b\b\b\b\b\b\b\b\b\b\b\b\b\b\b\b\b\b\b\b\b\b\b\b\b\b\b\b\b\b\b\b\b\b\b\b\b\b\b\b\b\b\b\b\b\b\b\b\b\b\b\b\b\b\b\b\b\b\b\b\b\b\b\b\b\b\b\b\b\r313/313 [==============================] - 2s 5ms/step - loss: 3.9402 - accuracy: 0.7431 - recall: 0.5025 - val_loss: 2.5394 - val_accuracy: 0.7860 - val_recall: 0.1667\n",
            "Epoch 8/50\n",
            "307/313 [============================>.] - ETA: 0s - loss: 3.7520 - accuracy: 0.7455 - recall: 0.5063"
          ]
        },
        {
          "output_type": "stream",
          "name": "stderr",
          "text": [
            "WARNING:tensorflow:Early stopping conditioned on metric `val_recall_5` which is not available. Available metrics are: loss,accuracy,recall,val_loss,val_accuracy,val_recall\n"
          ]
        },
        {
          "output_type": "stream",
          "name": "stdout",
          "text": [
            "\b\b\b\b\b\b\b\b\b\b\b\b\b\b\b\b\b\b\b\b\b\b\b\b\b\b\b\b\b\b\b\b\b\b\b\b\b\b\b\b\b\b\b\b\b\b\b\b\b\b\b\b\b\b\b\b\b\b\b\b\b\b\b\b\b\b\b\b\b\b\b\b\b\b\b\b\b\b\b\b\b\b\b\b\b\b\b\b\b\b\b\b\b\b\b\b\b\b\b\b\b\r313/313 [==============================] - 2s 6ms/step - loss: 3.7707 - accuracy: 0.7445 - recall: 0.5033 - val_loss: 3.0178 - val_accuracy: 0.6920 - val_recall: 0.9683\n",
            "Epoch 9/50\n",
            "309/313 [============================>.] - ETA: 0s - loss: 3.4337 - accuracy: 0.7625 - recall: 0.5425"
          ]
        },
        {
          "output_type": "stream",
          "name": "stderr",
          "text": [
            "WARNING:tensorflow:Early stopping conditioned on metric `val_recall_5` which is not available. Available metrics are: loss,accuracy,recall,val_loss,val_accuracy,val_recall\n"
          ]
        },
        {
          "output_type": "stream",
          "name": "stdout",
          "text": [
            "\b\b\b\b\b\b\b\b\b\b\b\b\b\b\b\b\b\b\b\b\b\b\b\b\b\b\b\b\b\b\b\b\b\b\b\b\b\b\b\b\b\b\b\b\b\b\b\b\b\b\b\b\b\b\b\b\b\b\b\b\b\b\b\b\b\b\b\b\b\b\b\b\b\b\b\b\b\b\b\b\b\b\b\b\b\b\b\b\b\b\b\b\b\b\b\b\b\b\b\b\b\r313/313 [==============================] - 2s 6ms/step - loss: 3.4116 - accuracy: 0.7630 - recall: 0.5439 - val_loss: 0.9567 - val_accuracy: 0.8700 - val_recall: 0.6190\n",
            "Epoch 10/50\n",
            "312/313 [============================>.] - ETA: 0s - loss: 3.4070 - accuracy: 0.7580 - recall: 0.5283"
          ]
        },
        {
          "output_type": "stream",
          "name": "stderr",
          "text": [
            "WARNING:tensorflow:Early stopping conditioned on metric `val_recall_5` which is not available. Available metrics are: loss,accuracy,recall,val_loss,val_accuracy,val_recall\n"
          ]
        },
        {
          "output_type": "stream",
          "name": "stdout",
          "text": [
            "\b\b\b\b\b\b\b\b\b\b\b\b\b\b\b\b\b\b\b\b\b\b\b\b\b\b\b\b\b\b\b\b\b\b\b\b\b\b\b\b\b\b\b\b\b\b\b\b\b\b\b\b\b\b\b\b\b\b\b\b\b\b\b\b\b\b\b\b\b\b\b\b\b\b\b\b\b\b\b\b\b\b\b\b\b\b\b\b\b\b\b\b\b\b\b\b\b\b\b\b\b\r313/313 [==============================] - 2s 6ms/step - loss: 3.4038 - accuracy: 0.7581 - recall: 0.5292 - val_loss: 1.7569 - val_accuracy: 0.8200 - val_recall: 0.3254\n",
            "Epoch 11/50\n",
            "306/313 [============================>.] - ETA: 0s - loss: 3.8300 - accuracy: 0.7427 - recall: 0.5016"
          ]
        },
        {
          "output_type": "stream",
          "name": "stderr",
          "text": [
            "WARNING:tensorflow:Early stopping conditioned on metric `val_recall_5` which is not available. Available metrics are: loss,accuracy,recall,val_loss,val_accuracy,val_recall\n"
          ]
        },
        {
          "output_type": "stream",
          "name": "stdout",
          "text": [
            "\b\b\b\b\b\b\b\b\b\b\b\b\b\b\b\b\b\b\b\b\b\b\b\b\b\b\b\b\b\b\b\b\b\b\b\b\b\b\b\b\b\b\b\b\b\b\b\b\b\b\b\b\b\b\b\b\b\b\b\b\b\b\b\b\b\b\b\b\b\b\b\b\b\b\b\b\b\b\b\b\b\b\b\b\b\b\b\b\b\b\b\b\b\b\b\b\b\b\b\b\b\r313/313 [==============================] - 2s 6ms/step - loss: 3.7799 - accuracy: 0.7449 - recall: 0.5052 - val_loss: 0.9810 - val_accuracy: 0.8640 - val_recall: 0.5952\n",
            "Epoch 12/50\n",
            "313/313 [==============================] - ETA: 0s - loss: 3.4288 - accuracy: 0.7636 - recall: 0.5431"
          ]
        },
        {
          "output_type": "stream",
          "name": "stderr",
          "text": [
            "WARNING:tensorflow:Early stopping conditioned on metric `val_recall_5` which is not available. Available metrics are: loss,accuracy,recall,val_loss,val_accuracy,val_recall\n"
          ]
        },
        {
          "output_type": "stream",
          "name": "stdout",
          "text": [
            "\b\b\b\b\b\b\b\b\b\b\b\b\b\b\b\b\b\b\b\b\b\b\b\b\b\b\b\b\b\b\b\b\b\b\b\b\b\b\b\b\b\b\b\b\b\b\b\b\b\b\b\b\b\b\b\b\b\b\b\b\b\b\b\b\b\b\b\b\b\b\b\b\b\b\b\b\b\b\b\b\b\b\b\b\b\b\b\b\b\b\b\b\b\b\b\b\b\b\b\b\b\r313/313 [==============================] - 2s 5ms/step - loss: 3.4288 - accuracy: 0.7636 - recall: 0.5431 - val_loss: 3.9414 - val_accuracy: 0.7640 - val_recall: 0.0714\n",
            "Epoch 13/50\n",
            "306/313 [============================>.] - ETA: 0s - loss: 3.4608 - accuracy: 0.7567 - recall: 0.5296"
          ]
        },
        {
          "output_type": "stream",
          "name": "stderr",
          "text": [
            "WARNING:tensorflow:Early stopping conditioned on metric `val_recall_5` which is not available. Available metrics are: loss,accuracy,recall,val_loss,val_accuracy,val_recall\n"
          ]
        },
        {
          "output_type": "stream",
          "name": "stdout",
          "text": [
            "\b\b\b\b\b\b\b\b\b\b\b\b\b\b\b\b\b\b\b\b\b\b\b\b\b\b\b\b\b\b\b\b\b\b\b\b\b\b\b\b\b\b\b\b\b\b\b\b\b\b\b\b\b\b\b\b\b\b\b\b\b\b\b\b\b\b\b\b\b\b\b\b\b\b\b\b\b\b\b\b\b\b\b\b\b\b\b\b\b\b\b\b\b\b\b\b\b\b\b\b\b\r313/313 [==============================] - 2s 6ms/step - loss: 3.4601 - accuracy: 0.7565 - recall: 0.5292 - val_loss: 0.9284 - val_accuracy: 0.8380 - val_recall: 0.7619\n",
            "Epoch 14/50\n",
            "311/313 [============================>.] - ETA: 0s - loss: 3.2791 - accuracy: 0.7676 - recall: 0.5496"
          ]
        },
        {
          "output_type": "stream",
          "name": "stderr",
          "text": [
            "WARNING:tensorflow:Early stopping conditioned on metric `val_recall_5` which is not available. Available metrics are: loss,accuracy,recall,val_loss,val_accuracy,val_recall\n"
          ]
        },
        {
          "output_type": "stream",
          "name": "stdout",
          "text": [
            "\b\b\b\b\b\b\b\b\b\b\b\b\b\b\b\b\b\b\b\b\b\b\b\b\b\b\b\b\b\b\b\b\b\b\b\b\b\b\b\b\b\b\b\b\b\b\b\b\b\b\b\b\b\b\b\b\b\b\b\b\b\b\b\b\b\b\b\b\b\b\b\b\b\b\b\b\b\b\b\b\b\b\b\b\b\b\b\b\b\b\b\b\b\b\b\b\b\b\b\b\b\r313/313 [==============================] - 2s 5ms/step - loss: 3.2793 - accuracy: 0.7676 - recall: 0.5497 - val_loss: 4.3123 - val_accuracy: 0.7620 - val_recall: 0.0556\n",
            "Epoch 15/50\n",
            "312/313 [============================>.] - ETA: 0s - loss: 3.4352 - accuracy: 0.7606 - recall: 0.5370"
          ]
        },
        {
          "output_type": "stream",
          "name": "stderr",
          "text": [
            "WARNING:tensorflow:Early stopping conditioned on metric `val_recall_5` which is not available. Available metrics are: loss,accuracy,recall,val_loss,val_accuracy,val_recall\n"
          ]
        },
        {
          "output_type": "stream",
          "name": "stdout",
          "text": [
            "\b\b\b\b\b\b\b\b\b\b\b\b\b\b\b\b\b\b\b\b\b\b\b\b\b\b\b\b\b\b\b\b\b\b\b\b\b\b\b\b\b\b\b\b\b\b\b\b\b\b\b\b\b\b\b\b\b\b\b\b\b\b\b\b\b\b\b\b\b\b\b\b\b\b\b\b\b\b\b\b\b\b\b\b\b\b\b\b\b\b\b\b\b\b\b\b\b\b\b\b\b\r313/313 [==============================] - 2s 6ms/step - loss: 3.4354 - accuracy: 0.7607 - recall: 0.5381 - val_loss: 2.2371 - val_accuracy: 0.7980 - val_recall: 0.2143\n",
            "Epoch 16/50\n",
            "310/313 [============================>.] - ETA: 0s - loss: 3.5202 - accuracy: 0.7592 - recall: 0.5300"
          ]
        },
        {
          "output_type": "stream",
          "name": "stderr",
          "text": [
            "WARNING:tensorflow:Early stopping conditioned on metric `val_recall_5` which is not available. Available metrics are: loss,accuracy,recall,val_loss,val_accuracy,val_recall\n"
          ]
        },
        {
          "output_type": "stream",
          "name": "stdout",
          "text": [
            "\b\b\b\b\b\b\b\b\b\b\b\b\b\b\b\b\b\b\b\b\b\b\b\b\b\b\b\b\b\b\b\b\b\b\b\b\b\b\b\b\b\b\b\b\b\b\b\b\b\b\b\b\b\b\b\b\b\b\b\b\b\b\b\b\b\b\b\b\b\b\b\b\b\b\b\b\b\b\b\b\b\b\b\b\b\b\b\b\b\b\b\b\b\b\b\b\b\b\b\b\b\r313/313 [==============================] - 2s 6ms/step - loss: 3.5202 - accuracy: 0.7586 - recall: 0.5292 - val_loss: 4.8942 - val_accuracy: 0.7600 - val_recall: 0.0476\n",
            "Epoch 17/50\n",
            "309/313 [============================>.] - ETA: 0s - loss: 3.2106 - accuracy: 0.7726 - recall: 0.5553"
          ]
        },
        {
          "output_type": "stream",
          "name": "stderr",
          "text": [
            "WARNING:tensorflow:Early stopping conditioned on metric `val_recall_5` which is not available. Available metrics are: loss,accuracy,recall,val_loss,val_accuracy,val_recall\n"
          ]
        },
        {
          "output_type": "stream",
          "name": "stdout",
          "text": [
            "\b\b\b\b\b\b\b\b\b\b\b\b\b\b\b\b\b\b\b\b\b\b\b\b\b\b\b\b\b\b\b\b\b\b\b\b\b\b\b\b\b\b\b\b\b\b\b\b\b\b\b\b\b\b\b\b\b\b\b\b\b\b\b\b\b\b\b\b\b\b\b\b\b\b\b\b\b\b\b\b\b\b\b\b\b\b\b\b\b\b\b\b\b\b\b\b\b\b\b\b\b\r313/313 [==============================] - 2s 6ms/step - loss: 3.1984 - accuracy: 0.7727 - recall: 0.5555 - val_loss: 1.1027 - val_accuracy: 0.8240 - val_recall: 0.8571\n",
            "Epoch 18/50\n",
            "311/313 [============================>.] - ETA: 0s - loss: 2.8736 - accuracy: 0.7758 - recall: 0.5644"
          ]
        },
        {
          "output_type": "stream",
          "name": "stderr",
          "text": [
            "WARNING:tensorflow:Early stopping conditioned on metric `val_recall_5` which is not available. Available metrics are: loss,accuracy,recall,val_loss,val_accuracy,val_recall\n"
          ]
        },
        {
          "output_type": "stream",
          "name": "stdout",
          "text": [
            "\b\b\b\b\b\b\b\b\b\b\b\b\b\b\b\b\b\b\b\b\b\b\b\b\b\b\b\b\b\b\b\b\b\b\b\b\b\b\b\b\b\b\b\b\b\b\b\b\b\b\b\b\b\b\b\b\b\b\b\b\b\b\b\b\b\b\b\b\b\b\b\b\b\b\b\b\b\b\b\b\b\b\b\b\b\b\b\b\b\b\b\b\b\b\b\b\b\b\b\b\b\r313/313 [==============================] - 2s 6ms/step - loss: 2.8766 - accuracy: 0.7754 - recall: 0.5652 - val_loss: 12.2291 - val_accuracy: 0.3420 - val_recall: 1.0000\n",
            "Epoch 19/50\n",
            "311/313 [============================>.] - ETA: 0s - loss: 3.6900 - accuracy: 0.7551 - recall: 0.5269"
          ]
        },
        {
          "output_type": "stream",
          "name": "stderr",
          "text": [
            "WARNING:tensorflow:Early stopping conditioned on metric `val_recall_5` which is not available. Available metrics are: loss,accuracy,recall,val_loss,val_accuracy,val_recall\n"
          ]
        },
        {
          "output_type": "stream",
          "name": "stdout",
          "text": [
            "\b\b\b\b\b\b\b\b\b\b\b\b\b\b\b\b\b\b\b\b\b\b\b\b\b\b\b\b\b\b\b\b\b\b\b\b\b\b\b\b\b\b\b\b\b\b\b\b\b\b\b\b\b\b\b\b\b\b\b\b\b\b\b\b\b\b\b\b\b\b\b\b\b\b\b\b\b\b\b\b\b\b\b\b\b\b\b\b\b\b\b\b\b\b\b\b\b\b\b\b\b\r313/313 [==============================] - 2s 5ms/step - loss: 3.6915 - accuracy: 0.7551 - recall: 0.5269 - val_loss: 2.0021 - val_accuracy: 0.8220 - val_recall: 0.3095\n",
            "Epoch 20/50\n",
            "307/313 [============================>.] - ETA: 0s - loss: 3.0673 - accuracy: 0.7752 - recall: 0.5644"
          ]
        },
        {
          "output_type": "stream",
          "name": "stderr",
          "text": [
            "WARNING:tensorflow:Early stopping conditioned on metric `val_recall_5` which is not available. Available metrics are: loss,accuracy,recall,val_loss,val_accuracy,val_recall\n"
          ]
        },
        {
          "output_type": "stream",
          "name": "stdout",
          "text": [
            "\b\b\b\b\b\b\b\b\b\b\b\b\b\b\b\b\b\b\b\b\b\b\b\b\b\b\b\b\b\b\b\b\b\b\b\b\b\b\b\b\b\b\b\b\b\b\b\b\b\b\b\b\b\b\b\b\b\b\b\b\b\b\b\b\b\b\b\b\b\b\b\b\b\b\b\b\b\b\b\b\b\b\b\b\b\b\b\b\b\b\b\b\b\b\b\b\b\b\b\b\b\r313/313 [==============================] - 2s 6ms/step - loss: 3.0446 - accuracy: 0.7761 - recall: 0.5663 - val_loss: 1.5346 - val_accuracy: 0.7800 - val_recall: 0.8968\n",
            "Epoch 21/50\n",
            "308/313 [============================>.] - ETA: 0s - loss: 3.2576 - accuracy: 0.7605 - recall: 0.5408"
          ]
        },
        {
          "output_type": "stream",
          "name": "stderr",
          "text": [
            "WARNING:tensorflow:Early stopping conditioned on metric `val_recall_5` which is not available. Available metrics are: loss,accuracy,recall,val_loss,val_accuracy,val_recall\n"
          ]
        },
        {
          "output_type": "stream",
          "name": "stdout",
          "text": [
            "\b\b\b\b\b\b\b\b\b\b\b\b\b\b\b\b\b\b\b\b\b\b\b\b\b\b\b\b\b\b\b\b\b\b\b\b\b\b\b\b\b\b\b\b\b\b\b\b\b\b\b\b\b\b\b\b\b\b\b\b\b\b\b\b\b\b\b\b\b\b\b\b\b\b\b\b\b\b\b\b\b\b\b\b\b\b\b\b\b\b\b\b\b\b\b\b\b\b\b\b\b\r313/313 [==============================] - 2s 6ms/step - loss: 3.2425 - accuracy: 0.7610 - recall: 0.5408 - val_loss: 0.9558 - val_accuracy: 0.8420 - val_recall: 0.7540\n",
            "Epoch 22/50\n",
            "305/313 [============================>.] - ETA: 0s - loss: 3.1980 - accuracy: 0.7685 - recall: 0.5542"
          ]
        },
        {
          "output_type": "stream",
          "name": "stderr",
          "text": [
            "WARNING:tensorflow:Early stopping conditioned on metric `val_recall_5` which is not available. Available metrics are: loss,accuracy,recall,val_loss,val_accuracy,val_recall\n"
          ]
        },
        {
          "output_type": "stream",
          "name": "stdout",
          "text": [
            "\b\b\b\b\b\b\b\b\b\b\b\b\b\b\b\b\b\b\b\b\b\b\b\b\b\b\b\b\b\b\b\b\b\b\b\b\b\b\b\b\b\b\b\b\b\b\b\b\b\b\b\b\b\b\b\b\b\b\b\b\b\b\b\b\b\b\b\b\b\b\b\b\b\b\b\b\b\b\b\b\b\b\b\b\b\b\b\b\b\b\b\b\b\b\b\b\b\b\b\b\b\r313/313 [==============================] - 2s 6ms/step - loss: 3.2095 - accuracy: 0.7682 - recall: 0.5524 - val_loss: 4.8471 - val_accuracy: 0.7620 - val_recall: 0.0556\n",
            "Epoch 23/50\n",
            "311/313 [============================>.] - ETA: 0s - loss: 2.8692 - accuracy: 0.7793 - recall: 0.5711"
          ]
        },
        {
          "output_type": "stream",
          "name": "stderr",
          "text": [
            "WARNING:tensorflow:Early stopping conditioned on metric `val_recall_5` which is not available. Available metrics are: loss,accuracy,recall,val_loss,val_accuracy,val_recall\n"
          ]
        },
        {
          "output_type": "stream",
          "name": "stdout",
          "text": [
            "\b\b\b\b\b\b\b\b\b\b\b\b\b\b\b\b\b\b\b\b\b\b\b\b\b\b\b\b\b\b\b\b\b\b\b\b\b\b\b\b\b\b\b\b\b\b\b\b\b\b\b\b\b\b\b\b\b\b\b\b\b\b\b\b\b\b\b\b\b\b\b\b\b\b\b\b\b\b\b\b\b\b\b\b\b\b\b\b\b\b\b\b\b\b\b\b\b\b\b\b\b\r313/313 [==============================] - 2s 6ms/step - loss: 2.8651 - accuracy: 0.7793 - recall: 0.5710 - val_loss: 5.4014 - val_accuracy: 0.5660 - val_recall: 0.9921\n",
            "Epoch 24/50\n",
            "309/313 [============================>.] - ETA: 0s - loss: 2.9375 - accuracy: 0.7779 - recall: 0.5733"
          ]
        },
        {
          "output_type": "stream",
          "name": "stderr",
          "text": [
            "WARNING:tensorflow:Early stopping conditioned on metric `val_recall_5` which is not available. Available metrics are: loss,accuracy,recall,val_loss,val_accuracy,val_recall\n"
          ]
        },
        {
          "output_type": "stream",
          "name": "stdout",
          "text": [
            "\b\b\b\b\b\b\b\b\b\b\b\b\b\b\b\b\b\b\b\b\b\b\b\b\b\b\b\b\b\b\b\b\b\b\b\b\b\b\b\b\b\b\b\b\b\b\b\b\b\b\b\b\b\b\b\b\b\b\b\b\b\b\b\b\b\b\b\b\b\b\b\b\b\b\b\b\b\b\b\b\b\b\b\b\b\b\b\b\b\b\b\b\b\b\b\b\b\b\b\b\b\r313/313 [==============================] - 2s 5ms/step - loss: 2.9202 - accuracy: 0.7785 - recall: 0.5733 - val_loss: 1.4962 - val_accuracy: 0.7900 - val_recall: 0.9127\n",
            "Epoch 25/50\n",
            "308/313 [============================>.] - ETA: 0s - loss: 3.2556 - accuracy: 0.7663 - recall: 0.5526"
          ]
        },
        {
          "output_type": "stream",
          "name": "stderr",
          "text": [
            "WARNING:tensorflow:Early stopping conditioned on metric `val_recall_5` which is not available. Available metrics are: loss,accuracy,recall,val_loss,val_accuracy,val_recall\n"
          ]
        },
        {
          "output_type": "stream",
          "name": "stdout",
          "text": [
            "\b\b\b\b\b\b\b\b\b\b\b\b\b\b\b\b\b\b\b\b\b\b\b\b\b\b\b\b\b\b\b\b\b\b\b\b\b\b\b\b\b\b\b\b\b\b\b\b\b\b\b\b\b\b\b\b\b\b\b\b\b\b\b\b\b\b\b\b\b\b\b\b\b\b\b\b\b\b\b\b\b\b\b\b\b\b\b\b\b\b\b\b\b\b\b\b\b\b\b\b\b\r313/313 [==============================] - 2s 6ms/step - loss: 3.2238 - accuracy: 0.7677 - recall: 0.5528 - val_loss: 7.1813 - val_accuracy: 0.4860 - val_recall: 0.9921\n",
            "Epoch 26/50\n",
            "313/313 [==============================] - ETA: 0s - loss: 2.8445 - accuracy: 0.7818 - recall: 0.5779"
          ]
        },
        {
          "output_type": "stream",
          "name": "stderr",
          "text": [
            "WARNING:tensorflow:Early stopping conditioned on metric `val_recall_5` which is not available. Available metrics are: loss,accuracy,recall,val_loss,val_accuracy,val_recall\n"
          ]
        },
        {
          "output_type": "stream",
          "name": "stdout",
          "text": [
            "\b\b\b\b\b\b\b\b\b\b\b\b\b\b\b\b\b\b\b\b\b\b\b\b\b\b\b\b\b\b\b\b\b\b\b\b\b\b\b\b\b\b\b\b\b\b\b\b\b\b\b\b\b\b\b\b\b\b\b\b\b\b\b\b\b\b\b\b\b\b\b\b\b\b\b\b\b\b\b\b\b\b\b\b\b\b\b\b\b\b\b\b\b\b\b\b\b\b\b\b\b\r313/313 [==============================] - 2s 5ms/step - loss: 2.8445 - accuracy: 0.7818 - recall: 0.5779 - val_loss: 4.5508 - val_accuracy: 0.6060 - val_recall: 0.9921\n",
            "Epoch 27/50\n",
            "309/313 [============================>.] - ETA: 0s - loss: 3.1089 - accuracy: 0.7715 - recall: 0.5612"
          ]
        },
        {
          "output_type": "stream",
          "name": "stderr",
          "text": [
            "WARNING:tensorflow:Early stopping conditioned on metric `val_recall_5` which is not available. Available metrics are: loss,accuracy,recall,val_loss,val_accuracy,val_recall\n"
          ]
        },
        {
          "output_type": "stream",
          "name": "stdout",
          "text": [
            "\b\b\b\b\b\b\b\b\b\b\b\b\b\b\b\b\b\b\b\b\b\b\b\b\b\b\b\b\b\b\b\b\b\b\b\b\b\b\b\b\b\b\b\b\b\b\b\b\b\b\b\b\b\b\b\b\b\b\b\b\b\b\b\b\b\b\b\b\b\b\b\b\b\b\b\b\b\b\b\b\b\b\b\b\b\b\b\b\b\b\b\b\b\b\b\b\b\b\b\b\b\r313/313 [==============================] - 2s 5ms/step - loss: 3.0953 - accuracy: 0.7722 - recall: 0.5609 - val_loss: 1.8706 - val_accuracy: 0.8260 - val_recall: 0.3254\n",
            "Epoch 28/50\n",
            "307/313 [============================>.] - ETA: 0s - loss: 3.1020 - accuracy: 0.7751 - recall: 0.5627"
          ]
        },
        {
          "output_type": "stream",
          "name": "stderr",
          "text": [
            "WARNING:tensorflow:Early stopping conditioned on metric `val_recall_5` which is not available. Available metrics are: loss,accuracy,recall,val_loss,val_accuracy,val_recall\n"
          ]
        },
        {
          "output_type": "stream",
          "name": "stdout",
          "text": [
            "\b\b\b\b\b\b\b\b\b\b\b\b\b\b\b\b\b\b\b\b\b\b\b\b\b\b\b\b\b\b\b\b\b\b\b\b\b\b\b\b\b\b\b\b\b\b\b\b\b\b\b\b\b\b\b\b\b\b\b\b\b\b\b\b\b\b\b\b\b\b\b\b\b\b\b\b\b\b\b\b\b\b\b\b\b\b\b\b\b\b\b\b\b\b\b\b\b\b\b\b\b\r313/313 [==============================] - 2s 6ms/step - loss: 3.1146 - accuracy: 0.7742 - recall: 0.5625 - val_loss: 8.1741 - val_accuracy: 0.7520 - val_recall: 0.0159\n",
            "Epoch 29/50\n",
            "307/313 [============================>.] - ETA: 0s - loss: 2.8688 - accuracy: 0.7783 - recall: 0.5690"
          ]
        },
        {
          "output_type": "stream",
          "name": "stderr",
          "text": [
            "WARNING:tensorflow:Early stopping conditioned on metric `val_recall_5` which is not available. Available metrics are: loss,accuracy,recall,val_loss,val_accuracy,val_recall\n"
          ]
        },
        {
          "output_type": "stream",
          "name": "stdout",
          "text": [
            "\b\b\b\b\b\b\b\b\b\b\b\b\b\b\b\b\b\b\b\b\b\b\b\b\b\b\b\b\b\b\b\b\b\b\b\b\b\b\b\b\b\b\b\b\b\b\b\b\b\b\b\b\b\b\b\b\b\b\b\b\b\b\b\b\b\b\b\b\b\b\b\b\b\b\b\b\b\b\b\b\b\b\b\b\b\b\b\b\b\b\b\b\b\b\b\b\b\b\b\b\b\r313/313 [==============================] - 2s 6ms/step - loss: 2.8897 - accuracy: 0.7770 - recall: 0.5663 - val_loss: 8.9704 - val_accuracy: 0.4560 - val_recall: 1.0000\n",
            "Epoch 30/50\n",
            "313/313 [==============================] - ETA: 0s - loss: 2.9194 - accuracy: 0.7785 - recall: 0.5721"
          ]
        },
        {
          "output_type": "stream",
          "name": "stderr",
          "text": [
            "WARNING:tensorflow:Early stopping conditioned on metric `val_recall_5` which is not available. Available metrics are: loss,accuracy,recall,val_loss,val_accuracy,val_recall\n"
          ]
        },
        {
          "output_type": "stream",
          "name": "stdout",
          "text": [
            "\b\b\b\b\b\b\b\b\b\b\b\b\b\b\b\b\b\b\b\b\b\b\b\b\b\b\b\b\b\b\b\b\b\b\b\b\b\b\b\b\b\b\b\b\b\b\b\b\b\b\b\b\b\b\b\b\b\b\b\b\b\b\b\b\b\b\b\b\b\b\b\b\b\b\b\b\b\b\b\b\b\b\b\b\b\b\b\b\b\b\b\b\b\b\b\b\b\b\b\b\b\r313/313 [==============================] - 2s 5ms/step - loss: 2.9194 - accuracy: 0.7785 - recall: 0.5721 - val_loss: 6.8034 - val_accuracy: 0.7520 - val_recall: 0.0159\n",
            "Epoch 31/50\n",
            "313/313 [==============================] - ETA: 0s - loss: 2.7297 - accuracy: 0.7842 - recall: 0.5799"
          ]
        },
        {
          "output_type": "stream",
          "name": "stderr",
          "text": [
            "WARNING:tensorflow:Early stopping conditioned on metric `val_recall_5` which is not available. Available metrics are: loss,accuracy,recall,val_loss,val_accuracy,val_recall\n"
          ]
        },
        {
          "output_type": "stream",
          "name": "stdout",
          "text": [
            "\b\b\b\b\b\b\b\b\b\b\b\b\b\b\b\b\b\b\b\b\b\b\b\b\b\b\b\b\b\b\b\b\b\b\b\b\b\b\b\b\b\b\b\b\b\b\b\b\b\b\b\b\b\b\b\b\b\b\b\b\b\b\b\b\b\b\b\b\b\b\b\b\b\b\b\b\b\b\b\b\b\b\b\b\b\b\b\b\b\b\b\b\b\b\b\b\b\b\b\b\b\r313/313 [==============================] - 2s 5ms/step - loss: 2.7297 - accuracy: 0.7842 - recall: 0.5799 - val_loss: 0.8599 - val_accuracy: 0.8800 - val_recall: 0.7143\n",
            "Epoch 32/50\n",
            "312/313 [============================>.] - ETA: 0s - loss: 2.9507 - accuracy: 0.7804 - recall: 0.5775"
          ]
        },
        {
          "output_type": "stream",
          "name": "stderr",
          "text": [
            "WARNING:tensorflow:Early stopping conditioned on metric `val_recall_5` which is not available. Available metrics are: loss,accuracy,recall,val_loss,val_accuracy,val_recall\n"
          ]
        },
        {
          "output_type": "stream",
          "name": "stdout",
          "text": [
            "\b\b\b\b\b\b\b\b\b\b\b\b\b\b\b\b\b\b\b\b\b\b\b\b\b\b\b\b\b\b\b\b\b\b\b\b\b\b\b\b\b\b\b\b\b\b\b\b\b\b\b\b\b\b\b\b\b\b\b\b\b\b\b\b\b\b\b\b\b\b\b\b\b\b\b\b\b\b\b\b\b\b\b\b\b\b\b\b\b\b\b\b\b\b\b\b\b\b\b\b\b\r313/313 [==============================] - 2s 6ms/step - loss: 2.9623 - accuracy: 0.7803 - recall: 0.5764 - val_loss: 1.0368 - val_accuracy: 0.8780 - val_recall: 0.6111\n",
            "Epoch 33/50\n",
            "308/313 [============================>.] - ETA: 0s - loss: 2.7026 - accuracy: 0.7900 - recall: 0.5954"
          ]
        },
        {
          "output_type": "stream",
          "name": "stderr",
          "text": [
            "WARNING:tensorflow:Early stopping conditioned on metric `val_recall_5` which is not available. Available metrics are: loss,accuracy,recall,val_loss,val_accuracy,val_recall\n"
          ]
        },
        {
          "output_type": "stream",
          "name": "stdout",
          "text": [
            "\b\b\b\b\b\b\b\b\b\b\b\b\b\b\b\b\b\b\b\b\b\b\b\b\b\b\b\b\b\b\b\b\b\b\b\b\b\b\b\b\b\b\b\b\b\b\b\b\b\b\b\b\b\b\b\b\b\b\b\b\b\b\b\b\b\b\b\b\b\b\b\b\b\b\b\b\b\b\b\b\b\b\b\b\b\b\b\b\b\b\b\b\b\b\b\b\b\b\b\b\b\r313/313 [==============================] - 2s 6ms/step - loss: 2.6990 - accuracy: 0.7906 - recall: 0.5961 - val_loss: 0.8027 - val_accuracy: 0.8680 - val_recall: 0.7381\n",
            "Epoch 34/50\n",
            "309/313 [============================>.] - ETA: 0s - loss: 2.6913 - accuracy: 0.7911 - recall: 0.5899"
          ]
        },
        {
          "output_type": "stream",
          "name": "stderr",
          "text": [
            "WARNING:tensorflow:Early stopping conditioned on metric `val_recall_5` which is not available. Available metrics are: loss,accuracy,recall,val_loss,val_accuracy,val_recall\n"
          ]
        },
        {
          "output_type": "stream",
          "name": "stdout",
          "text": [
            "\b\b\b\b\b\b\b\b\b\b\b\b\b\b\b\b\b\b\b\b\b\b\b\b\b\b\b\b\b\b\b\b\b\b\b\b\b\b\b\b\b\b\b\b\b\b\b\b\b\b\b\b\b\b\b\b\b\b\b\b\b\b\b\b\b\b\b\b\b\b\b\b\b\b\b\b\b\b\b\b\b\b\b\b\b\b\b\b\b\b\b\b\b\b\b\b\b\b\b\b\b\r313/313 [==============================] - 2s 6ms/step - loss: 2.6873 - accuracy: 0.7905 - recall: 0.5903 - val_loss: 10.7853 - val_accuracy: 0.7480 - val_recall: 0.0000e+00\n",
            "Epoch 35/50\n",
            "306/313 [============================>.] - ETA: 0s - loss: 3.0808 - accuracy: 0.7752 - recall: 0.5631"
          ]
        },
        {
          "output_type": "stream",
          "name": "stderr",
          "text": [
            "WARNING:tensorflow:Early stopping conditioned on metric `val_recall_5` which is not available. Available metrics are: loss,accuracy,recall,val_loss,val_accuracy,val_recall\n"
          ]
        },
        {
          "output_type": "stream",
          "name": "stdout",
          "text": [
            "\b\b\b\b\b\b\b\b\b\b\b\b\b\b\b\b\b\b\b\b\b\b\b\b\b\b\b\b\b\b\b\b\b\b\b\b\b\b\b\b\b\b\b\b\b\b\b\b\b\b\b\b\b\b\b\b\b\b\b\b\b\b\b\b\b\b\b\b\b\b\b\b\b\b\b\b\b\b\b\b\b\b\b\b\b\b\b\b\b\b\b\b\b\b\b\b\b\b\b\b\b\r313/313 [==============================] - 2s 6ms/step - loss: 3.1225 - accuracy: 0.7741 - recall: 0.5613 - val_loss: 1.1219 - val_accuracy: 0.8800 - val_recall: 0.5952\n",
            "Epoch 36/50\n",
            "308/313 [============================>.] - ETA: 0s - loss: 2.6456 - accuracy: 0.7926 - recall: 0.5993"
          ]
        },
        {
          "output_type": "stream",
          "name": "stderr",
          "text": [
            "WARNING:tensorflow:Early stopping conditioned on metric `val_recall_5` which is not available. Available metrics are: loss,accuracy,recall,val_loss,val_accuracy,val_recall\n"
          ]
        },
        {
          "output_type": "stream",
          "name": "stdout",
          "text": [
            "\b\b\b\b\b\b\b\b\b\b\b\b\b\b\b\b\b\b\b\b\b\b\b\b\b\b\b\b\b\b\b\b\b\b\b\b\b\b\b\b\b\b\b\b\b\b\b\b\b\b\b\b\b\b\b\b\b\b\b\b\b\b\b\b\b\b\b\b\b\b\b\b\b\b\b\b\b\b\b\b\b\b\b\b\b\b\b\b\b\b\b\b\b\b\b\b\b\b\b\b\b\r313/313 [==============================] - 2s 6ms/step - loss: 2.6483 - accuracy: 0.7923 - recall: 0.6000 - val_loss: 0.8364 - val_accuracy: 0.8820 - val_recall: 0.7302\n",
            "Epoch 37/50\n",
            "304/313 [============================>.] - ETA: 0s - loss: 2.8600 - accuracy: 0.7847 - recall: 0.5812"
          ]
        },
        {
          "output_type": "stream",
          "name": "stderr",
          "text": [
            "WARNING:tensorflow:Early stopping conditioned on metric `val_recall_5` which is not available. Available metrics are: loss,accuracy,recall,val_loss,val_accuracy,val_recall\n"
          ]
        },
        {
          "output_type": "stream",
          "name": "stdout",
          "text": [
            "\b\b\b\b\b\b\b\b\b\b\b\b\b\b\b\b\b\b\b\b\b\b\b\b\b\b\b\b\b\b\b\b\b\b\b\b\b\b\b\b\b\b\b\b\b\b\b\b\b\b\b\b\b\b\b\b\b\b\b\b\b\b\b\b\b\b\b\b\b\b\b\b\b\b\b\b\b\b\b\b\b\b\b\b\b\b\b\b\b\b\b\b\b\b\b\b\b\b\b\b\b\r313/313 [==============================] - 2s 5ms/step - loss: 2.8370 - accuracy: 0.7853 - recall: 0.5834 - val_loss: 0.8993 - val_accuracy: 0.8920 - val_recall: 0.6825\n",
            "Epoch 38/50\n",
            "305/313 [============================>.] - ETA: 0s - loss: 2.8563 - accuracy: 0.7808 - recall: 0.5719"
          ]
        },
        {
          "output_type": "stream",
          "name": "stderr",
          "text": [
            "WARNING:tensorflow:Early stopping conditioned on metric `val_recall_5` which is not available. Available metrics are: loss,accuracy,recall,val_loss,val_accuracy,val_recall\n"
          ]
        },
        {
          "output_type": "stream",
          "name": "stdout",
          "text": [
            "\b\b\b\b\b\b\b\b\b\b\b\b\b\b\b\b\b\b\b\b\b\b\b\b\b\b\b\b\b\b\b\b\b\b\b\b\b\b\b\b\b\b\b\b\b\b\b\b\b\b\b\b\b\b\b\b\b\b\b\b\b\b\b\b\b\b\b\b\b\b\b\b\b\b\b\b\b\b\b\b\b\b\b\b\b\b\b\b\b\b\b\b\b\b\b\b\b\b\b\b\b\r313/313 [==============================] - 2s 5ms/step - loss: 2.8736 - accuracy: 0.7803 - recall: 0.5737 - val_loss: 1.5783 - val_accuracy: 0.7860 - val_recall: 0.9048\n",
            "Epoch 39/50\n",
            "312/313 [============================>.] - ETA: 0s - loss: 2.7242 - accuracy: 0.7831 - recall: 0.5823"
          ]
        },
        {
          "output_type": "stream",
          "name": "stderr",
          "text": [
            "WARNING:tensorflow:Early stopping conditioned on metric `val_recall_5` which is not available. Available metrics are: loss,accuracy,recall,val_loss,val_accuracy,val_recall\n"
          ]
        },
        {
          "output_type": "stream",
          "name": "stdout",
          "text": [
            "\b\b\b\b\b\b\b\b\b\b\b\b\b\b\b\b\b\b\b\b\b\b\b\b\b\b\b\b\b\b\b\b\b\b\b\b\b\b\b\b\b\b\b\b\b\b\b\b\b\b\b\b\b\b\b\b\b\b\b\b\b\b\b\b\b\b\b\b\b\b\b\b\b\b\b\b\b\b\b\b\b\b\b\b\b\b\b\b\b\b\b\b\b\b\b\b\b\b\b\b\b\r313/313 [==============================] - 2s 5ms/step - loss: 2.7212 - accuracy: 0.7832 - recall: 0.5818 - val_loss: 1.3338 - val_accuracy: 0.8240 - val_recall: 0.8889\n",
            "Epoch 40/50\n",
            "310/313 [============================>.] - ETA: 0s - loss: 2.9674 - accuracy: 0.7789 - recall: 0.5739"
          ]
        },
        {
          "output_type": "stream",
          "name": "stderr",
          "text": [
            "WARNING:tensorflow:Early stopping conditioned on metric `val_recall_5` which is not available. Available metrics are: loss,accuracy,recall,val_loss,val_accuracy,val_recall\n"
          ]
        },
        {
          "output_type": "stream",
          "name": "stdout",
          "text": [
            "\b\b\b\b\b\b\b\b\b\b\b\b\b\b\b\b\b\b\b\b\b\b\b\b\b\b\b\b\b\b\b\b\b\b\b\b\b\b\b\b\b\b\b\b\b\b\b\b\b\b\b\b\b\b\b\b\b\b\b\b\b\b\b\b\b\b\b\b\b\b\b\b\b\b\b\b\b\b\b\b\b\b\b\b\b\b\b\b\b\b\b\b\b\b\b\b\b\b\b\b\b\r313/313 [==============================] - 2s 6ms/step - loss: 3.0199 - accuracy: 0.7786 - recall: 0.5702 - val_loss: 2.3462 - val_accuracy: 0.8080 - val_recall: 0.2540\n",
            "Epoch 41/50\n",
            "310/313 [============================>.] - ETA: 0s - loss: 2.6591 - accuracy: 0.7918 - recall: 0.6004"
          ]
        },
        {
          "output_type": "stream",
          "name": "stderr",
          "text": [
            "WARNING:tensorflow:Early stopping conditioned on metric `val_recall_5` which is not available. Available metrics are: loss,accuracy,recall,val_loss,val_accuracy,val_recall\n"
          ]
        },
        {
          "output_type": "stream",
          "name": "stdout",
          "text": [
            "\b\b\b\b\b\b\b\b\b\b\b\b\b\b\b\b\b\b\b\b\b\b\b\b\b\b\b\b\b\b\b\b\b\b\b\b\b\b\b\b\b\b\b\b\b\b\b\b\b\b\b\b\b\b\b\b\b\b\b\b\b\b\b\b\b\b\b\b\b\b\b\b\b\b\b\b\b\b\b\b\b\b\b\b\b\b\b\b\b\b\b\b\b\b\b\b\b\b\b\b\b\r313/313 [==============================] - 2s 6ms/step - loss: 2.6663 - accuracy: 0.7919 - recall: 0.5988 - val_loss: 0.8100 - val_accuracy: 0.8780 - val_recall: 0.7778\n",
            "Epoch 42/50\n",
            "307/313 [============================>.] - ETA: 0s - loss: 2.3870 - accuracy: 0.8001 - recall: 0.6129"
          ]
        },
        {
          "output_type": "stream",
          "name": "stderr",
          "text": [
            "WARNING:tensorflow:Early stopping conditioned on metric `val_recall_5` which is not available. Available metrics are: loss,accuracy,recall,val_loss,val_accuracy,val_recall\n"
          ]
        },
        {
          "output_type": "stream",
          "name": "stdout",
          "text": [
            "\b\b\b\b\b\b\b\b\b\b\b\b\b\b\b\b\b\b\b\b\b\b\b\b\b\b\b\b\b\b\b\b\b\b\b\b\b\b\b\b\b\b\b\b\b\b\b\b\b\b\b\b\b\b\b\b\b\b\b\b\b\b\b\b\b\b\b\b\b\b\b\b\b\b\b\b\b\b\b\b\b\b\b\b\b\b\b\b\b\b\b\b\b\b\b\b\b\b\b\b\b\r313/313 [==============================] - 2s 6ms/step - loss: 2.4056 - accuracy: 0.7991 - recall: 0.6097 - val_loss: 5.9685 - val_accuracy: 0.5220 - val_recall: 0.9921\n",
            "Epoch 43/50\n",
            "304/313 [============================>.] - ETA: 0s - loss: 2.8698 - accuracy: 0.7786 - recall: 0.5733"
          ]
        },
        {
          "output_type": "stream",
          "name": "stderr",
          "text": [
            "WARNING:tensorflow:Early stopping conditioned on metric `val_recall_5` which is not available. Available metrics are: loss,accuracy,recall,val_loss,val_accuracy,val_recall\n"
          ]
        },
        {
          "output_type": "stream",
          "name": "stdout",
          "text": [
            "\b\b\b\b\b\b\b\b\b\b\b\b\b\b\b\b\b\b\b\b\b\b\b\b\b\b\b\b\b\b\b\b\b\b\b\b\b\b\b\b\b\b\b\b\b\b\b\b\b\b\b\b\b\b\b\b\b\b\b\b\b\b\b\b\b\b\b\b\b\b\b\b\b\b\b\b\b\b\b\b\b\b\b\b\b\b\b\b\b\b\b\b\b\b\b\b\b\b\b\b\b\r313/313 [==============================] - 2s 6ms/step - loss: 2.8416 - accuracy: 0.7799 - recall: 0.5756 - val_loss: 5.6820 - val_accuracy: 0.7580 - val_recall: 0.0397\n",
            "Epoch 44/50\n",
            "311/313 [============================>.] - ETA: 0s - loss: 2.4357 - accuracy: 0.8010 - recall: 0.6136"
          ]
        },
        {
          "output_type": "stream",
          "name": "stderr",
          "text": [
            "WARNING:tensorflow:Early stopping conditioned on metric `val_recall_5` which is not available. Available metrics are: loss,accuracy,recall,val_loss,val_accuracy,val_recall\n"
          ]
        },
        {
          "output_type": "stream",
          "name": "stdout",
          "text": [
            "\b\b\b\b\b\b\b\b\b\b\b\b\b\b\b\b\b\b\b\b\b\b\b\b\b\b\b\b\b\b\b\b\b\b\b\b\b\b\b\b\b\b\b\b\b\b\b\b\b\b\b\b\b\b\b\b\b\b\b\b\b\b\b\b\b\b\b\b\b\b\b\b\b\b\b\b\b\b\b\b\b\b\b\b\b\b\b\b\b\b\b\b\b\b\b\b\b\b\b\b\b\r313/313 [==============================] - 2s 6ms/step - loss: 2.4316 - accuracy: 0.8013 - recall: 0.6139 - val_loss: 1.9393 - val_accuracy: 0.8180 - val_recall: 0.2937\n",
            "Epoch 45/50\n",
            "311/313 [============================>.] - ETA: 0s - loss: 2.7074 - accuracy: 0.7888 - recall: 0.5914"
          ]
        },
        {
          "output_type": "stream",
          "name": "stderr",
          "text": [
            "WARNING:tensorflow:Early stopping conditioned on metric `val_recall_5` which is not available. Available metrics are: loss,accuracy,recall,val_loss,val_accuracy,val_recall\n"
          ]
        },
        {
          "output_type": "stream",
          "name": "stdout",
          "text": [
            "\b\b\b\b\b\b\b\b\b\b\b\b\b\b\b\b\b\b\b\b\b\b\b\b\b\b\b\b\b\b\b\b\b\b\b\b\b\b\b\b\b\b\b\b\b\b\b\b\b\b\b\b\b\b\b\b\b\b\b\b\b\b\b\b\b\b\b\b\b\b\b\b\b\b\b\b\b\b\b\b\b\b\b\b\b\b\b\b\b\b\b\b\b\b\b\b\b\b\b\b\b\r313/313 [==============================] - 2s 5ms/step - loss: 2.6988 - accuracy: 0.7891 - recall: 0.5903 - val_loss: 0.9646 - val_accuracy: 0.8480 - val_recall: 0.8492\n",
            "Epoch 46/50\n",
            "310/313 [============================>.] - ETA: 0s - loss: 2.4377 - accuracy: 0.8039 - recall: 0.6215"
          ]
        },
        {
          "output_type": "stream",
          "name": "stderr",
          "text": [
            "WARNING:tensorflow:Early stopping conditioned on metric `val_recall_5` which is not available. Available metrics are: loss,accuracy,recall,val_loss,val_accuracy,val_recall\n"
          ]
        },
        {
          "output_type": "stream",
          "name": "stdout",
          "text": [
            "\b\b\b\b\b\b\b\b\b\b\b\b\b\b\b\b\b\b\b\b\b\b\b\b\b\b\b\b\b\b\b\b\b\b\b\b\b\b\b\b\b\b\b\b\b\b\b\b\b\b\b\b\b\b\b\b\b\b\b\b\b\b\b\b\b\b\b\b\b\b\b\b\b\b\b\b\b\b\b\b\b\b\b\b\b\b\b\b\b\b\b\b\b\b\b\b\b\b\b\b\b\r313/313 [==============================] - 2s 6ms/step - loss: 2.4312 - accuracy: 0.8041 - recall: 0.6221 - val_loss: 1.2591 - val_accuracy: 0.8200 - val_recall: 0.9127\n",
            "Epoch 47/50\n",
            "311/313 [============================>.] - ETA: 0s - loss: 2.7245 - accuracy: 0.7900 - recall: 0.5911"
          ]
        },
        {
          "output_type": "stream",
          "name": "stderr",
          "text": [
            "WARNING:tensorflow:Early stopping conditioned on metric `val_recall_5` which is not available. Available metrics are: loss,accuracy,recall,val_loss,val_accuracy,val_recall\n"
          ]
        },
        {
          "output_type": "stream",
          "name": "stdout",
          "text": [
            "\b\b\b\b\b\b\b\b\b\b\b\b\b\b\b\b\b\b\b\b\b\b\b\b\b\b\b\b\b\b\b\b\b\b\b\b\b\b\b\b\b\b\b\b\b\b\b\b\b\b\b\b\b\b\b\b\b\b\b\b\b\b\b\b\b\b\b\b\b\b\b\b\b\b\b\b\b\b\b\b\b\b\b\b\b\b\b\b\b\b\b\b\b\b\b\b\b\b\b\b\b\r313/313 [==============================] - 2s 6ms/step - loss: 2.7150 - accuracy: 0.7904 - recall: 0.5926 - val_loss: 1.1455 - val_accuracy: 0.8740 - val_recall: 0.5476\n",
            "Epoch 48/50\n",
            "311/313 [============================>.] - ETA: 0s - loss: 2.5968 - accuracy: 0.7946 - recall: 0.6017"
          ]
        },
        {
          "output_type": "stream",
          "name": "stderr",
          "text": [
            "WARNING:tensorflow:Early stopping conditioned on metric `val_recall_5` which is not available. Available metrics are: loss,accuracy,recall,val_loss,val_accuracy,val_recall\n"
          ]
        },
        {
          "output_type": "stream",
          "name": "stdout",
          "text": [
            "\b\b\b\b\b\b\b\b\b\b\b\b\b\b\b\b\b\b\b\b\b\b\b\b\b\b\b\b\b\b\b\b\b\b\b\b\b\b\b\b\b\b\b\b\b\b\b\b\b\b\b\b\b\b\b\b\b\b\b\b\b\b\b\b\b\b\b\b\b\b\b\b\b\b\b\b\b\b\b\b\b\b\b\b\b\b\b\b\b\b\b\b\b\b\b\b\b\b\b\b\b\r313/313 [==============================] - 2s 6ms/step - loss: 2.6161 - accuracy: 0.7939 - recall: 0.6000 - val_loss: 4.7252 - val_accuracy: 0.7660 - val_recall: 0.0714\n",
            "Epoch 49/50\n",
            "307/313 [============================>.] - ETA: 0s - loss: 2.5089 - accuracy: 0.8001 - recall: 0.6085"
          ]
        },
        {
          "output_type": "stream",
          "name": "stderr",
          "text": [
            "WARNING:tensorflow:Early stopping conditioned on metric `val_recall_5` which is not available. Available metrics are: loss,accuracy,recall,val_loss,val_accuracy,val_recall\n"
          ]
        },
        {
          "output_type": "stream",
          "name": "stdout",
          "text": [
            "\b\b\b\b\b\b\b\b\b\b\b\b\b\b\b\b\b\b\b\b\b\b\b\b\b\b\b\b\b\b\b\b\b\b\b\b\b\b\b\b\b\b\b\b\b\b\b\b\b\b\b\b\b\b\b\b\b\b\b\b\b\b\b\b\b\b\b\b\b\b\b\b\b\b\b\b\b\b\b\b\b\b\b\b\b\b\b\b\b\b\b\b\b\b\b\b\b\b\b\b\b\r313/313 [==============================] - 2s 6ms/step - loss: 2.5104 - accuracy: 0.7991 - recall: 0.6070 - val_loss: 0.9395 - val_accuracy: 0.8460 - val_recall: 0.8492\n",
            "Epoch 50/50\n",
            "303/313 [============================>.] - ETA: 0s - loss: 2.4183 - accuracy: 0.7968 - recall: 0.6057"
          ]
        },
        {
          "output_type": "stream",
          "name": "stderr",
          "text": [
            "WARNING:tensorflow:Early stopping conditioned on metric `val_recall_5` which is not available. Available metrics are: loss,accuracy,recall,val_loss,val_accuracy,val_recall\n"
          ]
        },
        {
          "output_type": "stream",
          "name": "stdout",
          "text": [
            "\b\b\b\b\b\b\b\b\b\b\b\b\b\b\b\b\b\b\b\b\b\b\b\b\b\b\b\b\b\b\b\b\b\b\b\b\b\b\b\b\b\b\b\b\b\b\b\b\b\b\b\b\b\b\b\b\b\b\b\b\b\b\b\b\b\b\b\b\b\b\b\b\b\b\b\b\b\b\b\b\b\b\b\b\b\b\b\b\b\b\b\b\b\b\b\b\b\b\b\b\b\r313/313 [==============================] - 2s 6ms/step - loss: 2.4196 - accuracy: 0.7968 - recall: 0.6081 - val_loss: 1.5275 - val_accuracy: 0.8380 - val_recall: 0.3810\n"
          ]
        }
      ]
    },
    {
      "cell_type": "code",
      "source": [
        "pred = model.predict(x_test)"
      ],
      "metadata": {
        "id": "rRRCAAIj0XpU"
      },
      "execution_count": 12,
      "outputs": []
    },
    {
      "cell_type": "code",
      "source": [
        "pred = (pred>=0.5).astype(int)\n"
      ],
      "metadata": {
        "id": "NxApVruYWqOC"
      },
      "execution_count": 19,
      "outputs": []
    },
    {
      "cell_type": "code",
      "source": [
        "accuracy_score(y_test,pred)"
      ],
      "metadata": {
        "colab": {
          "base_uri": "https://localhost:8080/"
        },
        "id": "1H1eembmzggP",
        "outputId": "35f6fb7c-a17e-4c8c-a836-7ac332205863"
      },
      "execution_count": 22,
      "outputs": [
        {
          "output_type": "execute_result",
          "data": {
            "text/plain": [
              "0.838"
            ]
          },
          "metadata": {},
          "execution_count": 22
        }
      ]
    },
    {
      "cell_type": "code",
      "source": [
        "cf = confusion_matrix(y_test,pred)"
      ],
      "metadata": {
        "id": "U5g4P2TBXRtZ"
      },
      "execution_count": 34,
      "outputs": []
    },
    {
      "cell_type": "code",
      "source": [
        "heatmap(cf,annot=True,cmap='hot')\n",
        "plt.show"
      ],
      "metadata": {
        "colab": {
          "base_uri": "https://localhost:8080/",
          "height": 282
        },
        "id": "X4FQwSLNZERX",
        "outputId": "e9167dfd-1faa-467f-b100-1ef554c186ef"
      },
      "execution_count": 42,
      "outputs": [
        {
          "output_type": "execute_result",
          "data": {
            "text/plain": [
              "<function matplotlib.pyplot.show(*args, **kw)>"
            ]
          },
          "metadata": {},
          "execution_count": 42
        },
        {
          "output_type": "display_data",
          "data": {
            "text/plain": [
              "<Figure size 432x288 with 2 Axes>"
            ],
            "image/png": "[encoded data removed]"
          },
          "metadata": {
            "needs_background": "light"
          }
        }
      ]
    }
  ]
}